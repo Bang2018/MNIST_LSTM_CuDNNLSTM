{
  "nbformat": 4,
  "nbformat_minor": 0,
  "metadata": {
    "colab": {
      "name": "MNIST_LSTM.ipynb",
      "provenance": [],
      "collapsed_sections": []
    },
    "kernelspec": {
      "name": "python3",
      "display_name": "Python 3"
    },
    "accelerator": "GPU"
  },
  "cells": [
    {
      "cell_type": "code",
      "metadata": {
        "id": "-QQ29zik967J",
        "colab_type": "code",
        "colab": {
          "base_uri": "https://localhost:8080/",
          "height": 187
        },
        "outputId": "7f09049b-25ad-40b5-f839-415bdcf63d01"
      },
      "source": [
        "import tensorflow as tf\n",
        "from tensorflow.keras.models import Sequential\n",
        "from tensorflow.keras.layers import Dense,LSTM,Dropout\n",
        "\n",
        "mnist = tf.keras.datasets.mnist\n",
        "(x_train,y_train),(x_test,y_test) = mnist.load_data()\n",
        "print(x_train.shape)\n",
        "print(x_train[1].shape)\n",
        "x_train=x_train/255.0\n",
        "x_test=x_test/255.0\n",
        "model=Sequential()\n",
        "model.add(LSTM(128,input_shape=(x_train.shape[1:]),activation='relu',return_sequences=True))\n",
        "model.add(Dropout(0.2))\n",
        "model.add(LSTM(128,activation='relu'))\n",
        "model.add(Dropout(0.2))\n",
        "model.add(Dense(32,activation='relu'))\n",
        "model.add(Dropout(0.2))\n",
        "model.add(Dense(10,activation='softmax'))\n",
        "opt = tf.keras.optimizers.Adam(lr=1e-3,decay=1e-5)\n",
        "model.compile(loss=\"sparse_categorical_crossentropy\",\n",
        "              optimizer=opt,\n",
        "              metrics=['accuracy'])\n",
        "model.fit(x_train,y_train,epochs=3,validation_data=(x_test,y_test))\n"
      ],
      "execution_count": 4,
      "outputs": [
        {
          "output_type": "stream",
          "text": [
            "(60000, 28, 28)\n",
            "(28, 28)\n",
            "Train on 60000 samples, validate on 10000 samples\n",
            "Epoch 1/3\n",
            "60000/60000 [==============================] - 160s 3ms/sample - loss: 0.6924 - acc: 0.7736 - val_loss: 0.2040 - val_acc: 0.9383\n",
            "Epoch 2/3\n",
            "60000/60000 [==============================] - 161s 3ms/sample - loss: 0.1817 - acc: 0.9513 - val_loss: 0.1103 - val_acc: 0.9660\n",
            "Epoch 3/3\n",
            "60000/60000 [==============================] - 163s 3ms/sample - loss: 0.1201 - acc: 0.9682 - val_loss: 0.0768 - val_acc: 0.9784\n"
          ],
          "name": "stdout"
        },
        {
          "output_type": "execute_result",
          "data": {
            "text/plain": [
              "<tensorflow.python.keras.callbacks.History at 0x7fb3582b2550>"
            ]
          },
          "metadata": {
            "tags": []
          },
          "execution_count": 4
        }
      ]
    },
    {
      "cell_type": "markdown",
      "metadata": {
        "id": "VhoY_wzbT7cO",
        "colab_type": "text"
      },
      "source": [
        "In this part, I will use CuDNNLSTM or FastLSTM on CUDA drive. CuDNNLSTM is much faster than LSTM and don't take 'activation =' parameter. CuDNNLSTM uses 'tanh' activation function [1]."
      ]
    },
    {
      "cell_type": "markdown",
      "metadata": {
        "id": "AhUZz-0rJZij",
        "colab_type": "text"
      },
      "source": [
        "# New Section"
      ]
    },
    {
      "cell_type": "code",
      "metadata": {
        "id": "IoFeB9pISqEF",
        "colab_type": "code",
        "colab": {}
      },
      "source": [
        ""
      ],
      "execution_count": 0,
      "outputs": []
    },
    {
      "cell_type": "code",
      "metadata": {
        "colab_type": "code",
        "outputId": "43dbe988-acac-49ed-8c23-a36004b54e7e",
        "id": "WgXw1UNKSrB6",
        "colab": {
          "base_uri": "https://localhost:8080/",
          "height": 187
        }
      },
      "source": [
        "import tensorflow as tf\n",
        "from tensorflow.keras.models import Sequential\n",
        "from tensorflow.keras.layers import Dense,CuDNNLSTM,Dropout\n",
        "\n",
        "mnist = tf.keras.datasets.mnist\n",
        "(x_train,y_train),(x_test,y_test) = mnist.load_data()\n",
        "print(x_train.shape)\n",
        "print(x_train[1].shape)\n",
        "x_train=x_train/255.0\n",
        "x_test=x_test/255.0\n",
        "model=Sequential()\n",
        "model.add(CuDNNLSTM(128,input_shape=(x_train.shape[1:]),return_sequences=True))\n",
        "model.add(Dropout(0.2))\n",
        "model.add(CuDNNLSTM(128))\n",
        "model.add(Dropout(0.2))\n",
        "model.add(Dense(32,activation='relu'))\n",
        "model.add(Dropout(0.2))\n",
        "model.add(Dense(10,activation='softmax'))\n",
        "opt = tf.keras.optimizers.Adam(lr=1e-3,decay=1e-5)\n",
        "model.compile(loss=\"sparse_categorical_crossentropy\",\n",
        "              optimizer=opt,\n",
        "              metrics=['accuracy'])\n",
        "model.fit(x_train,y_train,epochs=3,validation_data=(x_test,y_test))\n"
      ],
      "execution_count": 5,
      "outputs": [
        {
          "output_type": "stream",
          "text": [
            "(60000, 28, 28)\n",
            "(28, 28)\n",
            "Train on 60000 samples, validate on 10000 samples\n",
            "Epoch 1/3\n",
            "60000/60000 [==============================] - 25s 422us/sample - loss: 0.3971 - acc: 0.8777 - val_loss: 0.1168 - val_acc: 0.9652\n",
            "Epoch 2/3\n",
            "60000/60000 [==============================] - 12s 204us/sample - loss: 0.1205 - acc: 0.9679 - val_loss: 0.0926 - val_acc: 0.9687\n",
            "Epoch 3/3\n",
            "60000/60000 [==============================] - 12s 207us/sample - loss: 0.0890 - acc: 0.9760 - val_loss: 0.0546 - val_acc: 0.9838\n"
          ],
          "name": "stdout"
        },
        {
          "output_type": "execute_result",
          "data": {
            "text/plain": [
              "<tensorflow.python.keras.callbacks.History at 0x7fb357cb1be0>"
            ]
          },
          "metadata": {
            "tags": []
          },
          "execution_count": 5
        }
      ]
    },
    {
      "cell_type": "markdown",
      "metadata": {
        "id": "jALfAS15Wa32",
        "colab_type": "text"
      },
      "source": [
        "Reference\n",
        "1. Optimizing Recurrent Neural Networks in cuDNN 5 \n",
        "https://devblogs.nvidia.com/optimizing-recurrent-neural-networks-cudnn-5/"
      ]
    }
  ]
}